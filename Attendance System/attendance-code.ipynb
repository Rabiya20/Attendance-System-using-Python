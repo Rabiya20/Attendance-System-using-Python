{
 "cells": [
  {
   "cell_type": "markdown",
   "source": [
    "# Attendance System"
   ],
   "metadata": {}
  },
  {
   "cell_type": "markdown",
   "source": [
    "Import Libraries"
   ],
   "metadata": {}
  },
  {
   "cell_type": "code",
   "execution_count": 3,
   "source": [
    "from datetime import datetime\r\n",
    "import face_recognition\r\n",
    "import numpy as np\r\n",
    "import cv2\r\n",
    "import os"
   ],
   "outputs": [
    {
     "output_type": "error",
     "ename": "ModuleNotFoundError",
     "evalue": "No module named 'face_recognition'",
     "traceback": [
      "\u001b[1;31m---------------------------------------------------------------------------\u001b[0m",
      "\u001b[1;31mModuleNotFoundError\u001b[0m                       Traceback (most recent call last)",
      "\u001b[1;32m<ipython-input-3-596c37e1fc5c>\u001b[0m in \u001b[0;36m<module>\u001b[1;34m\u001b[0m\n\u001b[0;32m      1\u001b[0m \u001b[1;32mfrom\u001b[0m \u001b[0mdatetime\u001b[0m \u001b[1;32mimport\u001b[0m \u001b[0mdatetime\u001b[0m\u001b[1;33m\u001b[0m\u001b[1;33m\u001b[0m\u001b[0m\n\u001b[1;32m----> 2\u001b[1;33m \u001b[1;32mimport\u001b[0m \u001b[0mface_recognition\u001b[0m\u001b[1;33m\u001b[0m\u001b[1;33m\u001b[0m\u001b[0m\n\u001b[0m\u001b[0;32m      3\u001b[0m \u001b[1;32mimport\u001b[0m \u001b[0mnumpy\u001b[0m \u001b[1;32mas\u001b[0m \u001b[0mnp\u001b[0m\u001b[1;33m\u001b[0m\u001b[1;33m\u001b[0m\u001b[0m\n\u001b[0;32m      4\u001b[0m \u001b[1;32mimport\u001b[0m \u001b[0mcv2\u001b[0m\u001b[1;33m\u001b[0m\u001b[1;33m\u001b[0m\u001b[0m\n\u001b[0;32m      5\u001b[0m \u001b[1;32mimport\u001b[0m \u001b[0mos\u001b[0m\u001b[1;33m\u001b[0m\u001b[1;33m\u001b[0m\u001b[0m\n",
      "\u001b[1;31mModuleNotFoundError\u001b[0m: No module named 'face_recognition'"
     ]
    }
   ],
   "metadata": {}
  },
  {
   "cell_type": "markdown",
   "source": [
    "Path for Images"
   ],
   "metadata": {}
  },
  {
   "cell_type": "code",
   "execution_count": null,
   "source": [
    "imgPath = 'images'\r\n",
    "images = []\r\n",
    "personName = []\r\n",
    "myList = os.listdir(imgPath)\r\n",
    "print(myList)"
   ],
   "outputs": [],
   "metadata": {}
  },
  {
   "cell_type": "markdown",
   "source": [
    "Person Name by Image"
   ],
   "metadata": {}
  },
  {
   "cell_type": "code",
   "execution_count": null,
   "source": [
    "for cv_img in myList:\r\n",
    "    current_image = cv2.imread(f'{imgPath}/{cv_img}')\r\n",
    "    images.append(current_image)\r\n",
    "    personName.append(os.imgPath.splitext(cv_img)[0])\r\n",
    "\r\n",
    "print(personName)"
   ],
   "outputs": [],
   "metadata": {}
  },
  {
   "cell_type": "markdown",
   "source": [
    "Function for Face Encodings"
   ],
   "metadata": {}
  },
  {
   "cell_type": "code",
   "execution_count": null,
   "source": [
    "def faceEncoding(images):\r\n",
    "    for img in images:\r\n",
    "        img = cv2.cvtColor(img, cv2.COLOR_BGR2RGB)\r\n",
    "        encode = face_recognition.face_encodings(img)[0]\r\n",
    "        encodeList.append(encode)\r\n",
    "    return encodeList\r\n",
    "\r\n",
    "print(faceEncoding[images])"
   ],
   "outputs": [],
   "metadata": {}
  },
  {
   "cell_type": "code",
   "execution_count": null,
   "source": [
    "encodeListKnown = faceEncoding(images)\n",
    "print(\"All Encodings Completed!\")\n",
    "\n",
    "def attendance(name):\n",
    "    with open('attendance-marked.csv', 'r+') as f:\n",
    "        dataList = f.readlines()\n",
    "        nameList = []\n",
    "        for line in dataList:\n",
    "            entry = line.split(',')\n",
    "            nameList.append(entry[0])\n",
    "        \n",
    "        if name not in nameList:\n",
    "            timeNow = datetime.now()\n",
    "            timeStr = time_now.strtime('%H:%M:%S')\n",
    "            dateStr = time_now.strtime('%d/%m/%y')\n",
    "            f.writelines(f'{name}, {timeStr}, {dateStr}')\n"
   ],
   "outputs": [],
   "metadata": {}
  },
  {
   "cell_type": "markdown",
   "source": [
    "Start Capturing Faces"
   ],
   "metadata": {}
  },
  {
   "cell_type": "code",
   "execution_count": null,
   "source": [
    "capture = cv2.VideoCapture(1)\n",
    "while True:\n",
    "    ret, frame = capture.read()\n",
    "    faces = cv2.resize(frame, (0,0), None, 0.25, 0.25)\n",
    "    faces = cv2.cvtColor(faces, cv2.COLOR_BGR2RGB)\n",
    "\n",
    "    currentFaceFrame = face_recognition.face_locations(faces)\n",
    "    encodeCurrentFrame = face_recognition.face_encodings(faces, currentFaceFrame)\n",
    "\n",
    "    for encodeFace, faceLoc in zip(encodeCurrentFrame, currentFaceFrame):\n",
    "        matches = face_recognition.compare_faces(encodeListKnown, encodeFace)\n",
    "        faceDis = face_recognition.face_distance(encodeListKnown, encodeFace)\n",
    "\n",
    "        matchIndex = np.argmin(faceDis)\n",
    "\n",
    "        if matches[matchIndex]:\n",
    "            name = personName[matchIndex].upper()\n",
    "            # print(name)\n",
    "            y1, x2, y2, x1 = faceLoc\n",
    "            y1, x2, y2, x1 = y1*4, x2*4, y2*4, x1*4\n",
    "            cv2.rectangle(frame, (x1, y1), (x2,y2), (0,255,0),2)\n",
    "            cv2.rectangle(frame, (x1, y2-35), (x2, y2), (0,255,0), cv2.FILLED)\n",
    "            cv2.putText(frame, name, (x1 + 6, y2 - 6), cv2.FONT_HERSHEY_COMPLEX, 1, (0,255,0), 2)\n",
    "            attendance(name)\n",
    "            \n",
    "    cv2.imshow(\"Camera\", frame)\n",
    "    if cv2.waitKey(10) == 13:\n",
    "        break\n",
    "\n",
    "capture.release()\n",
    "cv2.destroyAllWindows()\n",
    "\n"
   ],
   "outputs": [],
   "metadata": {}
  },
  {
   "cell_type": "markdown",
   "source": [
    "Creating CSV"
   ],
   "metadata": {}
  },
  {
   "cell_type": "code",
   "execution_count": null,
   "source": [],
   "outputs": [],
   "metadata": {}
  }
 ],
 "metadata": {
  "kernelspec": {
   "display_name": "Python 3",
   "language": "python",
   "name": "python3"
  },
  "language_info": {
   "codemirror_mode": {
    "name": "ipython",
    "version": 3
   },
   "file_extension": ".py",
   "mimetype": "text/x-python",
   "name": "python",
   "nbconvert_exporter": "python",
   "pygments_lexer": "ipython3",
   "version": "3.7.6"
  }
 },
 "nbformat": 4,
 "nbformat_minor": 4
}